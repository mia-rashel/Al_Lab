{
  "nbformat": 4,
  "nbformat_minor": 0,
  "metadata": {
    "colab": {
      "name": "Notebook_02.ipynb",
      "provenance": [],
      "authorship_tag": "ABX9TyNsxRtqWVhIcwCOgcIIPh7V",
      "include_colab_link": true
    },
    "kernelspec": {
      "name": "python3",
      "display_name": "Python 3"
    }
  },
  "cells": [
    {
      "cell_type": "markdown",
      "metadata": {
        "id": "view-in-github",
        "colab_type": "text"
      },
      "source": [
        "<a href=\"https://colab.research.google.com/github/mia-rashel/Al_Lab/blob/master/Notebook_02.ipynb\" target=\"_parent\"><img src=\"https://colab.research.google.com/assets/colab-badge.svg\" alt=\"Open In Colab\"/></a>"
      ]
    },
    {
      "cell_type": "markdown",
      "metadata": {
        "id": "OsdZBdYsQob1"
      },
      "source": [
        "###IF statement"
      ]
    },
    {
      "cell_type": "code",
      "metadata": {
        "id": "Zja1Ug3UQySr",
        "outputId": "7d1147ea-d004-483a-c391-9263ea334869",
        "colab": {
          "base_uri": "https://localhost:8080/",
          "height": 34
        }
      },
      "source": [
        "grade = 85\n",
        "if grade > 60:\n",
        "  print('passed')"
      ],
      "execution_count": null,
      "outputs": [
        {
          "output_type": "stream",
          "text": [
            "passed\n"
          ],
          "name": "stdout"
        }
      ]
    },
    {
      "cell_type": "markdown",
      "metadata": {
        "id": "IoDYCgVgRBAx"
      },
      "source": [
        "###If else statement"
      ]
    },
    {
      "cell_type": "code",
      "metadata": {
        "id": "n9oGPpq2RDR0",
        "outputId": "0f1e02c8-30dd-47b2-8c90-126c6f91ed24",
        "colab": {
          "base_uri": "https://localhost:8080/",
          "height": 34
        }
      },
      "source": [
        "grade = 85\n",
        "if grade > 60:\n",
        "  print(\"passed\")\n",
        "else :\n",
        "  print(\"fail\")  \n"
      ],
      "execution_count": null,
      "outputs": [
        {
          "output_type": "stream",
          "text": [
            "passed\n"
          ],
          "name": "stdout"
        }
      ]
    },
    {
      "cell_type": "markdown",
      "metadata": {
        "id": "utKKE9pTRcsS"
      },
      "source": [
        "Conditional expression"
      ]
    },
    {
      "cell_type": "code",
      "metadata": {
        "id": "Iz9I78S9ROW1",
        "outputId": "7876265f-534c-4f26-e1b6-1b17c8b3936c",
        "colab": {
          "base_uri": "https://localhost:8080/",
          "height": 34
        }
      },
      "source": [
        "result =  ('passed' if grade >= 60 else 'failed')\n",
        "print(result)"
      ],
      "execution_count": null,
      "outputs": [
        {
          "output_type": "stream",
          "text": [
            "passed\n"
          ],
          "name": "stdout"
        }
      ]
    },
    {
      "cell_type": "markdown",
      "metadata": {
        "id": "LhZApNQYSFAz"
      },
      "source": [
        "###IF...elif....else statement"
      ]
    },
    {
      "cell_type": "markdown",
      "metadata": {
        "id": "PbYOdsQJSKxj"
      },
      "source": [
        "Flowchart of if...elif...else"
      ]
    },
    {
      "cell_type": "code",
      "metadata": {
        "id": "7bscObzzSL0O",
        "outputId": "5bdf800b-dbee-4487-d7cb-396e758c6de1",
        "colab": {
          "base_uri": "https://localhost:8080/",
          "height": 34
        }
      },
      "source": [
        "grade = 77 \n",
        "if grade >=90:\n",
        "  print(\"A\")\n",
        "elif grade >=80: \n",
        "  print(\"B\")\n",
        "elif grade >=70:\n",
        "  print(\"C\")  \n",
        "elif grade >=60:\n",
        "  print(\"B\")  \n",
        "else:\n",
        "  print(\"Failed\")  "
      ],
      "execution_count": null,
      "outputs": [
        {
          "output_type": "stream",
          "text": [
            "C\n"
          ],
          "name": "stdout"
        }
      ]
    },
    {
      "cell_type": "markdown",
      "metadata": {
        "id": "99yeusNlS5ht"
      },
      "source": [
        "###While Statement"
      ]
    },
    {
      "cell_type": "code",
      "metadata": {
        "id": "kWr15y6fSiy-",
        "outputId": "e7d21ba5-e0fe-477e-c50b-1f5d795d33b3",
        "colab": {
          "base_uri": "https://localhost:8080/",
          "height": 34
        }
      },
      "source": [
        "number = 1\n",
        "while (number<10):\n",
        "  print(number , end =\" \" )\n",
        "  number+=1\n"
      ],
      "execution_count": null,
      "outputs": [
        {
          "output_type": "stream",
          "text": [
            "1 2 3 4 5 6 7 8 9 "
          ],
          "name": "stdout"
        }
      ]
    },
    {
      "cell_type": "markdown",
      "metadata": {
        "id": "q7A6nDHsTlEN"
      },
      "source": [
        "while statement to find the first power of 3 larger than 50:"
      ]
    },
    {
      "cell_type": "code",
      "metadata": {
        "id": "SyhDsuRnTptA",
        "outputId": "1f4b003c-29e1-4500-e9bf-3099b89433a4",
        "colab": {
          "base_uri": "https://localhost:8080/",
          "height": 34
        }
      },
      "source": [
        "product = 3 \n",
        "\n",
        "while product <=50:\n",
        "  product = product*3\n",
        "print(product)  "
      ],
      "execution_count": null,
      "outputs": [
        {
          "output_type": "stream",
          "text": [
            "81\n"
          ],
          "name": "stdout"
        }
      ]
    },
    {
      "cell_type": "markdown",
      "metadata": {
        "id": "6OPWzhYxT-UY"
      },
      "source": [
        "###For statement"
      ]
    },
    {
      "cell_type": "code",
      "metadata": {
        "id": "J8Rxy9xPUArR",
        "outputId": "7aa9e507-8a25-429a-ba40-dbe12f04f609",
        "colab": {
          "base_uri": "https://localhost:8080/",
          "height": 34
        }
      },
      "source": [
        "for character in \"programming\":\n",
        "  print (character , end =\" \")\n"
      ],
      "execution_count": null,
      "outputs": [
        {
          "output_type": "stream",
          "text": [
            "p r o g r a m m i n g "
          ],
          "name": "stdout"
        }
      ]
    },
    {
      "cell_type": "markdown",
      "metadata": {
        "id": "P7gwr7p2URq_"
      },
      "source": [
        "Built in Range Function"
      ]
    },
    {
      "cell_type": "code",
      "metadata": {
        "id": "KR3T0PViUTVi",
        "outputId": "6ad81f85-8a8d-4ad0-f8c5-c000fda38b9b",
        "colab": {
          "base_uri": "https://localhost:8080/",
          "height": 34
        }
      },
      "source": [
        "for counter in range(10):\n",
        "  print(counter , end = \" \")"
      ],
      "execution_count": null,
      "outputs": [
        {
          "output_type": "stream",
          "text": [
            "0 1 2 3 4 5 6 7 8 9 "
          ],
          "name": "stdout"
        }
      ]
    },
    {
      "cell_type": "code",
      "metadata": {
        "id": "R7V97V24UgAT",
        "outputId": "fd43df52-4882-4b0c-cb65-e781069f247f",
        "colab": {
          "base_uri": "https://localhost:8080/",
          "height": 34
        }
      },
      "source": [
        "total = 0\n",
        "for number in range(500):\n",
        "  total = total+number\n",
        "print(total)  "
      ],
      "execution_count": null,
      "outputs": [
        {
          "output_type": "stream",
          "text": [
            "124750\n"
          ],
          "name": "stdout"
        }
      ]
    },
    {
      "cell_type": "code",
      "metadata": {
        "id": "imJPOT9NVFE5",
        "outputId": "01a2c6c7-22fa-4936-fc64-452fb3b848fe",
        "colab": {
          "base_uri": "https://localhost:8080/",
          "height": 34
        }
      },
      "source": [
        "for number in range(5,10):\n",
        "  print(number , end = \" \")"
      ],
      "execution_count": null,
      "outputs": [
        {
          "output_type": "stream",
          "text": [
            "5 6 7 8 9 "
          ],
          "name": "stdout"
        }
      ]
    },
    {
      "cell_type": "code",
      "metadata": {
        "id": "iLoJm9MiVR7D",
        "outputId": "2aea7a14-b5d1-446a-fd32-1193d37dce8e",
        "colab": {
          "base_uri": "https://localhost:8080/",
          "height": 34
        }
      },
      "source": [
        "for number in range(2,20,4):\n",
        "  print(number , end = \" \")"
      ],
      "execution_count": null,
      "outputs": [
        {
          "output_type": "stream",
          "text": [
            "2 6 10 14 18 "
          ],
          "name": "stdout"
        }
      ]
    },
    {
      "cell_type": "code",
      "metadata": {
        "id": "3rs0gTOfVjVE",
        "outputId": "cc61f116-1f3e-4d10-8c56-e2cdb57811ec",
        "colab": {
          "base_uri": "https://localhost:8080/",
          "height": 34
        }
      },
      "source": [
        "for number in range(10,0,-2):\n",
        "  print(number ,end = \" \")"
      ],
      "execution_count": null,
      "outputs": [
        {
          "output_type": "stream",
          "text": [
            "10 8 6 4 2 "
          ],
          "name": "stdout"
        }
      ]
    },
    {
      "cell_type": "markdown",
      "metadata": {
        "id": "w_-lff8NWYw7"
      },
      "source": [
        "Number table print using range function"
      ]
    },
    {
      "cell_type": "code",
      "metadata": {
        "id": "MvOLrbu2WZzt",
        "outputId": "e8b73bec-718f-4121-fb3b-6f60878bf685",
        "colab": {
          "base_uri": "https://localhost:8080/",
          "height": 34
        }
      },
      "source": [
        "number = int(input())"
      ],
      "execution_count": null,
      "outputs": [
        {
          "output_type": "stream",
          "text": [
            "10\n"
          ],
          "name": "stdout"
        }
      ]
    },
    {
      "cell_type": "code",
      "metadata": {
        "id": "ylMMKww9WoXO",
        "outputId": "40cbfb9f-c155-4242-b205-b95f2877dd78",
        "colab": {
          "base_uri": "https://localhost:8080/",
          "height": 187
        }
      },
      "source": [
        "for i in range(1,11):\n",
        "  print(number ,\"X\", i ,\"=\",number*i)"
      ],
      "execution_count": null,
      "outputs": [
        {
          "output_type": "stream",
          "text": [
            "10 X 1 = 10\n",
            "10 X 2 = 20\n",
            "10 X 3 = 30\n",
            "10 X 4 = 40\n",
            "10 X 5 = 50\n",
            "10 X 6 = 60\n",
            "10 X 7 = 70\n",
            "10 X 8 = 80\n",
            "10 X 9 = 90\n",
            "10 X 10 = 100\n"
          ],
          "name": "stdout"
        }
      ]
    },
    {
      "cell_type": "markdown",
      "metadata": {
        "id": "IfWU9UT0XHT0"
      },
      "source": [
        "Nested For Loop"
      ]
    },
    {
      "cell_type": "code",
      "metadata": {
        "id": "0zKAX3ESXIKW",
        "outputId": "b0706dee-b070-4e8d-81a2-e28088670a0f",
        "colab": {
          "base_uri": "https://localhost:8080/",
          "height": 136
        }
      },
      "source": [
        "for left in range(7):\n",
        "  for right in range(left , 7):\n",
        "    print(\"[\"+str(left)+\"|\"+str(right)+\"]\", end =\"\")\n",
        "  print()    "
      ],
      "execution_count": null,
      "outputs": [
        {
          "output_type": "stream",
          "text": [
            "[0|0][0|1][0|2][0|3][0|4][0|5][0|6]\n",
            "[1|1][1|2][1|3][1|4][1|5][1|6]\n",
            "[2|2][2|3][2|4][2|5][2|6]\n",
            "[3|3][3|4][3|5][3|6]\n",
            "[4|4][4|5][4|6]\n",
            "[5|5][5|6]\n",
            "[6|6]\n"
          ],
          "name": "stdout"
        }
      ]
    },
    {
      "cell_type": "markdown",
      "metadata": {
        "id": "gLORTK4aXxXu"
      },
      "source": [
        "Break statement\n"
      ]
    },
    {
      "cell_type": "code",
      "metadata": {
        "id": "J_gf-8GIXzZ_",
        "outputId": "7101097d-1276-41a4-e71a-4d5cf81df1a9",
        "colab": {
          "base_uri": "https://localhost:8080/",
          "height": 34
        }
      },
      "source": [
        "for number in range (10):\n",
        "  if number ==5:\n",
        "    break\n",
        "  print(number , end =\" \")"
      ],
      "execution_count": null,
      "outputs": [
        {
          "output_type": "stream",
          "text": [
            "0 1 2 3 4 "
          ],
          "name": "stdout"
        }
      ]
    },
    {
      "cell_type": "markdown",
      "metadata": {
        "id": "Ea6tTTo9YQOO"
      },
      "source": [
        "Continue statement"
      ]
    },
    {
      "cell_type": "code",
      "metadata": {
        "id": "q2CkhnNhYFcR",
        "outputId": "2807e5fe-5973-4644-f26a-29a124c5d610",
        "colab": {
          "base_uri": "https://localhost:8080/",
          "height": 34
        }
      },
      "source": [
        "for number in range (10):\n",
        " if number ==5:\n",
        "  continue\n",
        " print(number , end = \" \") "
      ],
      "execution_count": null,
      "outputs": [
        {
          "output_type": "stream",
          "text": [
            "0 1 2 3 4 6 7 8 9 "
          ],
          "name": "stdout"
        }
      ]
    },
    {
      "cell_type": "code",
      "metadata": {
        "id": "pXDoE_sIYzfh"
      },
      "source": [
        ""
      ],
      "execution_count": null,
      "outputs": []
    }
  ]
}